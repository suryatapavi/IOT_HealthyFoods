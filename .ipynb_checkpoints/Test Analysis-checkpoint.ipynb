{
 "cells": [
  {
   "cell_type": "code",
   "execution_count": 1,
   "metadata": {
    "collapsed": true
   },
   "outputs": [],
   "source": [
    "import pandas as pd\n",
    "import numpy as np"
   ]
  },
  {
   "cell_type": "raw",
   "metadata": {},
   "source": [
    "User Interface:\n",
    "    User Options - Self ; Family\n",
    "    If Self:\n",
    "        Enter Age\n",
    "        Enter Gender\n",
    "    If Family:\n",
    "        Enter Number of Member (x)\n",
    "        Populate x age/gender\n",
    "        Enter age/gender of each memeber\n",
    "    "
   ]
  },
  {
   "cell_type": "code",
   "execution_count": 50,
   "metadata": {},
   "outputs": [],
   "source": [
    "display_message = pd.read_csv(\"data/fg_directional_satements-en_ONPP.csv\")"
   ]
  },
  {
   "cell_type": "code",
   "execution_count": 51,
   "metadata": {},
   "outputs": [],
   "source": [
    "foodgroup_description = pd.read_csv(\"data/foodgroups-en_ONPP.csv\")"
   ]
  },
  {
   "cell_type": "code",
   "execution_count": 52,
   "metadata": {},
   "outputs": [],
   "source": [
    "foodgroup_serving_usertype = pd.read_csv(\"data/servings_per_day-en_ONPP.csv\")"
   ]
  },
  {
   "cell_type": "code",
   "execution_count": 53,
   "metadata": {},
   "outputs": [],
   "source": [
    "foodgroup_serving_details = pd.read_csv(\"data/foods-en_ONPP_rev.csv\", encoding='L2', delimiter=\",\").drop([\"Unnamed: 4\"], axis=1)"
   ]
  },
  {
   "cell_type": "raw",
   "metadata": {},
   "source": [
    "# Figure out the ingredients that can be used in a meal based on the user stats\n",
    "# search for receipes based on the ingredients - all ingredients must be from the pre-selected list.\n",
    "# can do multiple search\n",
    "# can do google api search to show pictures of the receipe.\n",
    "# show if instructions\n",
    "# can cache a database of such receipes every day....\n",
    "# conditionally ask user how frequently receipes can be repeated?\n",
    "# mark already used receipes.\n",
    "# repeat only if no suitable receipe.\n",
    "# save the users profile on google cloud.\n",
    "# ask user for feedback on receipe - if negative do not repeat. ThumbsUp/ThumbsDown"
   ]
  },
  {
   "cell_type": "code",
   "execution_count": null,
   "metadata": {
    "collapsed": true
   },
   "outputs": [],
   "source": []
  }
 ],
 "metadata": {
  "kernelspec": {
   "display_name": "Python 3",
   "language": "python",
   "name": "python3"
  },
  "language_info": {
   "codemirror_mode": {
    "name": "ipython",
    "version": 3
   },
   "file_extension": ".py",
   "mimetype": "text/x-python",
   "name": "python",
   "nbconvert_exporter": "python",
   "pygments_lexer": "ipython3",
   "version": "3.6.3"
  }
 },
 "nbformat": 4,
 "nbformat_minor": 2
}
